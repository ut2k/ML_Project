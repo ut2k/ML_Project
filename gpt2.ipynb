{
  "nbformat": 4,
  "nbformat_minor": 0,
  "metadata": {
    "colab": {
      "name": "gpt2",
      "provenance": [],
      "include_colab_link": true
    },
    "kernelspec": {
      "name": "python3",
      "display_name": "Python 3"
    }
  },
  "cells": [
    {
      "cell_type": "markdown",
      "metadata": {
        "id": "view-in-github",
        "colab_type": "text"
      },
      "source": [
        "<a href=\"https://colab.research.google.com/github/ut2k/ML_Project/blob/master/gpt2.ipynb\" target=\"_parent\"><img src=\"https://colab.research.google.com/assets/colab-badge.svg\" alt=\"Open In Colab\"/></a>"
      ]
    },
    {
      "cell_type": "code",
      "metadata": {
        "colab_type": "code",
        "outputId": "f187fa17-7754-4952-abf3-68422bd68786",
        "id": "eCDFO2_IASTg",
        "colab": {
          "base_uri": "https://localhost:8080/",
          "height": 34
        }
      },
      "source": [
        "!git clone https://github.com/graykode/gpt-2-Pytorch"
      ],
      "execution_count": 0,
      "outputs": [
        {
          "output_type": "stream",
          "text": [
            "fatal: destination path 'gpt-2-Pytorch' already exists and is not an empty directory.\n"
          ],
          "name": "stdout"
        }
      ]
    },
    {
      "cell_type": "code",
      "metadata": {
        "colab_type": "code",
        "id": "XsmONaiCAShF",
        "colab": {}
      },
      "source": [
        "import os\n",
        "os.chdir('/content/gpt-2-Pytorch')"
      ],
      "execution_count": 0,
      "outputs": []
    },
    {
      "cell_type": "code",
      "metadata": {
        "id": "YXlwms_Y-zm4",
        "colab_type": "code",
        "colab": {
          "base_uri": "https://localhost:8080/",
          "height": 68
        },
        "outputId": "169ca2de-25e9-4b1c-bf8b-94ac3c5391d2"
      },
      "source": [
        "!curl --output gpt2-pytorch_model.bin https://s3.amazonaws.com/models.huggingface.co/bert/gpt2-pytorch_model.bin"
      ],
      "execution_count": 12,
      "outputs": [
        {
          "output_type": "stream",
          "text": [
            "  % Total    % Received % Xferd  Average Speed   Time    Time     Time  Current\n",
            "                                 Dload  Upload   Total   Spent    Left  Speed\n",
            "100  522M  100  522M    0     0  33.1M      0  0:00:15  0:00:15 --:--:-- 35.2M\n"
          ],
          "name": "stdout"
        }
      ]
    },
    {
      "cell_type": "code",
      "metadata": {
        "id": "cJZVS3TnCoLQ",
        "colab_type": "code",
        "colab": {
          "base_uri": "https://localhost:8080/",
          "height": 34
        },
        "outputId": "d31331d6-8c6b-4a70-fbb6-339644eb2a32"
      },
      "source": [
        "!pip install -r requirements.txt"
      ],
      "execution_count": 14,
      "outputs": [
        {
          "output_type": "stream",
          "text": [
            "Requirement already satisfied: regex==2017.4.5 in /usr/local/lib/python3.6/dist-packages (from -r requirements.txt (line 1)) (2017.4.5)\n"
          ],
          "name": "stdout"
        }
      ]
    },
    {
      "cell_type": "code",
      "metadata": {
        "id": "r4RguZzIC0re",
        "colab_type": "code",
        "colab": {
          "base_uri": "https://localhost:8080/",
          "height": 513
        },
        "outputId": "1ccad801-5df3-429e-c468-4311752c9f8f"
      },
      "source": [
        "!python main.py --text \"In a shocking finding, scientist discovered a herd of unicorns living in a remote, previously unexplored valley, in the Andes Mountains. Even more surprising to the researchers was the fact that the unicorns spoke perfect English.\""
      ],
      "execution_count": 21,
      "outputs": [
        {
          "output_type": "stream",
          "text": [
            "Namespace(batch_size=-1, length=-1, nsamples=1, quiet=False, temperature=0.7, text='In a shocking finding, scientist discovered a herd of unicorns living in a remote, previously unexplored valley, in the Andes Mountains. Even more surprising to the researchers was the fact that the unicorns spoke perfect English.', top_k=40, unconditional=False)\n",
            "In a shocking finding, scientist discovered a herd of unicorns living in a remote, previously unexplored valley, in the Andes Mountains. Even more surprising to the researchers was the fact that the unicorns spoke perfect English.\n",
            "100% 512/512 [00:39<00:00, 13.04it/s]\n",
            "======================================== SAMPLE 1 ========================================\n",
            "\n",
            "\n",
            "\"This is a truly amazing discovery,\" said lead author Jonathan Shanks, who has been working with the research team since 2002. \"This is the first time a research team has been able to do that in a location that is actually in the Andes mountain range.\"\n",
            "\n",
            "The team spent six months studying the animal's vocalizations, and as they studied them, the researchers discovered that the unicorns spoke perfectly English. The researchers also noticed that the unicorns' eyes were bright red, making the animal look like an actual human.\n",
            "\n",
            "This research was funded by the National Science Foundation, the National Science Foundation, the National Research Council of Canada, the Canadian Institutes for Research, the Natural Sciences and Engineering, the European Research Council and the National Science Foundation.\n",
            "\n",
            "The research was published in the journal Science.\n",
            "\n",
            "\"The unicorns are a very fascinating example of how animals can learn,\" said Shanks. \"Their eyes are bright red, but they are also able to communicate. It's really interesting because they do not have the ability to speak perfectly English.\"\n",
            "\n",
            "The study was funded by the Natural Sciences and Engineering Research Council of Canada.\n",
            "\n",
            "Explore further: Scientists discover unicorns in a remote valley, say researchers\n",
            "\n",
            "More information: Shanks et al., \"Transcranial direct current stimulation in a single-celled animal with a perfect English bilingualism,\" Science, 8, e100638, May 21, 2013. DOI: 10.1126/science.1205370<|endoftext|>It's a little over a month since we last wrote about the $35,000 to $50,000 mark. So what's going on with the $30,000 to $40,000? Well, you've heard about it, right? Well, it's pretty much all over the place. The first round of payments for the year have been announced, and the more you hear about it, the more likely it is that it's going to change the world.\n",
            "\n",
            "That's right, this is the first round of payments to the public. The first round was announced in January and it's now being rolled out in three or four days, starting with the first round of payments on December 5th.\n",
            "\n",
            "The first round of payments to the public will be made via the Kickstarter for the $30,000 to $50,000 mark.\n",
            "\n",
            "The first round of payments will be made via the Kickstarter for the $30,000 to $50,000 mark.\n",
            "\n"
          ],
          "name": "stdout"
        }
      ]
    }
  ]
}